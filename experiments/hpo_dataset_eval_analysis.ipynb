{
 "cells": [
  {
   "cell_type": "code",
   "execution_count": 17,
   "metadata": {
    "collapsed": true
   },
   "outputs": [
    {
     "name": "stdout",
     "output_type": "stream",
     "text": [
      "/Users/alexander.prams/autotune\n"
     ]
    }
   ],
   "source": [
    "%matplotlib inline\n",
    "import matplotlib\n",
    "import numpy as np\n",
    "import matplotlib.pyplot as plt\n",
    "import pickle\n",
    "import os\n",
    "import config\n",
    "\n",
    "print(config.ROOT_FOLDER)"
   ]
  },
  {
   "cell_type": "code",
   "execution_count": 15,
   "metadata": {},
   "outputs": [],
   "source": [
    "with open(os.path.join(config.ROOT_FOLDER, 'experiment_results/hpo_dataset_optimizer_results.pickle'), 'rb') as handle:\n",
    "    optimizer_results = pickle.load(handle)"
   ]
  },
  {
   "cell_type": "code",
   "execution_count": 15,
   "metadata": {},
   "outputs": [
    {
     "name": "stdout",
     "output_type": "stream",
     "text": [
      "Optimizers:  ['GridSearch', 'RandomSearch', 'GA', 'TPE']\nClassifiers:  ['libsvm_svc', 'liblinear', 'random_forest']\nn_datasets:  42\nn_reps_per_dataset 10\n"
     ]
    }
   ],
   "source": [
    "# Optimizer results dict has structure [optimizer.name][classifier_name][dataset_idx][rep_id] -> optimizer output\n",
    "optimizers = list(optimizer_results.keys())\n",
    "classifiers = list(optimizer_results[optimizers[0]].keys())\n",
    "n_datasets = len(optimizer_results[optimizers[0]][classifiers[0]])\n",
    "n_reps_per_dataset = len(optimizer_results[optimizers[0]][classifiers[0]][0])\n",
    "\n",
    "print(\"Optimizers: \", optimizers)\n",
    "print(\"Classifiers: \", classifiers)\n",
    "print(\"n_datasets: \", n_datasets)\n",
    "print(\"n_reps_per_dataset\", n_reps_per_dataset)"
   ]
  },
  {
   "cell_type": "code",
   "execution_count": 20,
   "metadata": {},
   "outputs": [
    {
     "name": "stdout",
     "output_type": "stream",
     "text": [
      "(42, 10, 1596, 2)\n(42, 10, 168, 2)\n(42, 10, 400, 2)\n"
     ]
    }
   ],
   "source": [
    "def analyze_optimizer(optimizer_results, opt_name=\"GridSearch\"):\n",
    "    opt_results = optimizer_results[opt_name]\n",
    "    for classifier in opt_results:\n",
    "        results = np.array(opt_results[classifier])\n",
    "        print(results.shape)\n",
    "        \n",
    "\n",
    "analyze_optimizer(optimizer_results)"
   ]
  },
  {
   "cell_type": "code",
   "execution_count": null,
   "metadata": {},
   "outputs": [],
   "source": []
  }
 ],
 "metadata": {
  "kernelspec": {
   "display_name": "Python 2",
   "language": "python",
   "name": "python2"
  },
  "language_info": {
   "codemirror_mode": {
    "name": "ipython",
    "version": 2
   },
   "file_extension": ".py",
   "mimetype": "text/x-python",
   "name": "python",
   "nbconvert_exporter": "python",
   "pygments_lexer": "ipython2",
   "version": "2.7.6"
  }
 },
 "nbformat": 4,
 "nbformat_minor": 0
}
