{
 "cells": [
  {
   "cell_type": "markdown",
   "metadata": {},
   "source": [
    "#### Basic Tree-Plot in Plotly with [igraph](http://igraph.org/python/)"
   ]
  },
  {
   "cell_type": "code",
   "execution_count": 1,
   "metadata": {},
   "outputs": [],
   "source": [
    "import sys, os\n",
    "sys.path.insert(1, os.path.join(sys.path[0], '..'))\n",
    "import config as at_cfg"
   ]
  },
  {
   "cell_type": "code",
   "execution_count": 2,
   "metadata": {},
   "outputs": [
    {
     "name": "stdout",
     "output_type": "stream",
     "text": [
      "/Users/alexander.prams/autotune/.venv/lib/python3.6/site-packages/cairo/__init__.py\nOpt node idx:  1\nAdding edge from opt_node_idx 1 to 4\nAdding edge from opt_node_idx 1 to 5\nAdding edge from opt_node_idx 1 to 6\nAdding edge from opt_node_idx 1 to 7\nOpt node idx:  2\nAdding edge from opt_node_idx 2 to 8\nAdding edge from opt_node_idx 2 to 9\nAdding edge from opt_node_idx 2 to 10\nAdding edge from opt_node_idx 2 to 11\nOpt node idx:  3\nAdding edge from opt_node_idx 3 to 12\nAdding edge from opt_node_idx 3 to 13\nAdding edge from opt_node_idx 3 to 14\nAdding edge from opt_node_idx 3 to 15\n"
     ]
    }
   ],
   "source": [
    "import cairo\n",
    "print(cairo.__file__)\n",
    "from igraph import *\n",
    "g = Graph()#Graph.Tree(9,3) #Create tree graph with 127 vertices each with 2 children\n",
    "N_OPTIMIZERS = 3\n",
    "N_PARAMS_PER_OPTIMIZER = 4\n",
    "g.add_vertices(N_OPTIMIZERS + 1)\n",
    "g.add_vertices(N_OPTIMIZERS * N_PARAMS_PER_OPTIMIZER)\n",
    "g.vs[\"label\"] = list(range(len(g.vs)))\n",
    "g.vs[0][\"label\"] = \"\"\n",
    "g.vs[0]['color'] = \"dark green\"\n",
    "\n",
    "for opt_node_idx in range(1, N_OPTIMIZERS + 1):\n",
    "    print(\"Opt node idx: \", opt_node_idx)\n",
    "    g.add_edges([(0, opt_node_idx)])\n",
    "    offset = N_OPTIMIZERS + 1 +(opt_node_idx - 1) * N_PARAMS_PER_OPTIMIZER\n",
    "    g.vs[opt_node_idx]['label'] = \"Model \" + str(opt_node_idx)\n",
    "    g.vs[opt_node_idx]['label_angle'] = 0\n",
    "    g.vs[opt_node_idx]['color'] = \"dark blue\"\n",
    "    for param_node_idx in range(N_PARAMS_PER_OPTIMIZER):\n",
    "        print(\"Adding edge from opt_node_idx {0} to {1}\".format(opt_node_idx, offset+param_node_idx))\n",
    "        g.add_edges([(opt_node_idx, offset + param_node_idx)])\n",
    "        g.vs[offset+param_node_idx]['label'] = \"HP\" + str(param_node_idx + 1)\n",
    "        g.vs[offset+param_node_idx]['label_angle'] = -1.5\n",
    "        g.vs[offset+param_node_idx]['color'] = \"red\"\n",
    "\n",
    "layout = g.layout_reingold_tilford(mode=\"in\", root=[0])\n",
    "out = plot(g, layout = layout, bbox=[600,300], margin = 50, vertex_label_dist=2)#, vertex_label_angle=0.7, edge_label_dist=50)\n",
    "\n",
    "out.save(os.path.join(at_cfg.PLOT_FOLDER, 'multiple_models_and_hps.png'))"
   ]
  },
  {
   "cell_type": "code",
   "execution_count": 3,
   "metadata": {},
   "outputs": [
    {
     "name": "stdout",
     "output_type": "stream",
     "text": [
      "/Users/alexander.prams/autotune/.venv/lib/python3.6/site-packages/cairo/__init__.py\n5\nOpt node idx:  1\nOpt node idx:  2\nOpt node idx:  3\nOpt node idx:  4\n"
     ]
    }
   ],
   "source": [
    "import cairo\n",
    "print(cairo.__file__)\n",
    "from igraph import *\n",
    "\n",
    "g = Graph()#Graph.Tree(9,3) #Create tree graph with 127 vertices each with 2 children\n",
    "N_PARAMS_PER_OPTIMIZER = 4\n",
    "g.add_vertices(N_PARAMS_PER_OPTIMIZER + 1)\n",
    "#g.add_vertices(N_OPTIMIZERS * N_PARAMS_PER_OPTIMIZER)\n",
    "g.vs[0][\"label\"] = \"Model\"\n",
    "g.vs[0]['label_angle'] = 0\n",
    "g.vs[0]['color'] = \"dark blue\"\n",
    "#for i in range(len(g.vs)):\n",
    "#    g.vs[i]['label'] = \n",
    "print(len(g.vs))\n",
    "for opt_node_idx in range(1, N_PARAMS_PER_OPTIMIZER + 1):\n",
    "    print(\"Opt node idx: \", opt_node_idx)\n",
    "    g.add_edges([(0, opt_node_idx)])\n",
    "    g.vs[opt_node_idx]['name'] = \"HP\" + str(opt_node_idx)\n",
    "    g.vs[opt_node_idx]['label'] = \"HP\" + str(opt_node_idx)\n",
    "    g.vs[opt_node_idx]['label_angle'] = -1.5\n",
    "    g.vs[opt_node_idx]['color'] = \"red\"\n",
    "\n",
    "layout = g.layout_reingold_tilford(mode=\"in\", root=[0])\n",
    "out = plot(g, layout = layout, bbox=[500,200], margin = 50, vertex_label_dist=2)#, vertex_label_angle=0.7, edge_label_dist=50)\n",
    "\n",
    "out.save(os.path.join(at_cfg.PLOT_FOLDER, 'single_model_and_hps.png'))"
   ]
  },
  {
   "cell_type": "code",
   "execution_count": null,
   "metadata": {},
   "outputs": [],
   "source": []
  },
  {
   "cell_type": "code",
   "execution_count": null,
   "metadata": {},
   "outputs": [],
   "source": []
  }
 ],
 "metadata": {
  "anaconda-cloud": {},
  "kernelspec": {
   "display_name": "autotone",
   "language": "python",
   "name": "autotone"
  },
  "language_info": {
   "codemirror_mode": {
    "name": "ipython",
    "version": 3
   },
   "file_extension": ".py",
   "mimetype": "text/x-python",
   "name": "python",
   "nbconvert_exporter": "python",
   "pygments_lexer": "ipython3",
   "version": "3.6.5"
  }
 },
 "nbformat": 4,
 "nbformat_minor": 1
}
